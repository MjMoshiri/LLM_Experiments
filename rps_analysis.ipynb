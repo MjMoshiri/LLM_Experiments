{
 "cells": [
  {
   "cell_type": "markdown",
   "id": "e5437031",
   "metadata": {},
   "source": [
    "# Rock-Paper-Scissors Prompt Order Analysis\n",
    "\n",
    "This notebook analyzes the results of the RPS game experiment. The goal is to determine whether the order in which choices are presented in the prompt affects the model's selection probabilities for rock, paper, or scissors.\n",
    "\n",
    "We will:\n",
    "- Load the RPS experiment results.\n",
    "- Map model output tokens to canonical choices.\n",
    "- Calculate the probability distribution for each choice based on logprobs.\n",
    "- Aggregate and visualize the results by prompt order.\n",
    "- Investigate if prompt order introduces any bias in the model's choices."
   ]
  },
  {
   "cell_type": "markdown",
   "id": "fd4d676c",
   "metadata": {},
   "source": [
    "## Setup and Data Loading\n",
    "\n",
    "First, import the necessary libraries and load the RPS results."
   ]
  },
  {
   "cell_type": "code",
   "execution_count": 1,
   "id": "ada25db3",
   "metadata": {},
   "outputs": [
    {
     "name": "stdout",
     "output_type": "stream",
     "text": [
      "Requirement already satisfied: pandas in ./venv/lib/python3.12/site-packages (2.2.3)\n",
      "Requirement already satisfied: matplotlib in ./venv/lib/python3.12/site-packages (3.10.1)\n",
      "Requirement already satisfied: seaborn in ./venv/lib/python3.12/site-packages (0.13.2)\n",
      "Requirement already satisfied: numpy>=1.26.0 in ./venv/lib/python3.12/site-packages (from pandas) (2.2.4)\n",
      "Requirement already satisfied: python-dateutil>=2.8.2 in ./venv/lib/python3.12/site-packages (from pandas) (2.9.0.post0)\n",
      "Requirement already satisfied: pytz>=2020.1 in ./venv/lib/python3.12/site-packages (from pandas) (2025.2)\n",
      "Requirement already satisfied: tzdata>=2022.7 in ./venv/lib/python3.12/site-packages (from pandas) (2025.2)\n",
      "Requirement already satisfied: contourpy>=1.0.1 in ./venv/lib/python3.12/site-packages (from matplotlib) (1.3.2)\n",
      "Requirement already satisfied: cycler>=0.10 in ./venv/lib/python3.12/site-packages (from matplotlib) (0.12.1)\n",
      "Requirement already satisfied: fonttools>=4.22.0 in ./venv/lib/python3.12/site-packages (from matplotlib) (4.57.0)\n",
      "Requirement already satisfied: kiwisolver>=1.3.1 in ./venv/lib/python3.12/site-packages (from matplotlib) (1.4.8)\n",
      "Requirement already satisfied: packaging>=20.0 in ./venv/lib/python3.12/site-packages (from matplotlib) (24.2)\n",
      "Requirement already satisfied: pillow>=8 in ./venv/lib/python3.12/site-packages (from matplotlib) (11.2.1)\n",
      "Requirement already satisfied: pyparsing>=2.3.1 in ./venv/lib/python3.12/site-packages (from matplotlib) (3.2.3)\n",
      "Requirement already satisfied: six>=1.5 in ./venv/lib/python3.12/site-packages (from python-dateutil>=2.8.2->pandas) (1.17.0)\n",
      "Note: you may need to restart the kernel to use updated packages.\n"
     ]
    }
   ],
   "source": [
    "# Install dependencies if needed\n",
    "%pip install pandas matplotlib seaborn"
   ]
  },
  {
   "cell_type": "code",
   "execution_count": 2,
   "id": "4da219f7",
   "metadata": {},
   "outputs": [
    {
     "data": {
      "text/html": [
       "<div>\n",
       "<style scoped>\n",
       "    .dataframe tbody tr th:only-of-type {\n",
       "        vertical-align: middle;\n",
       "    }\n",
       "\n",
       "    .dataframe tbody tr th {\n",
       "        vertical-align: top;\n",
       "    }\n",
       "\n",
       "    .dataframe thead th {\n",
       "        text-align: right;\n",
       "    }\n",
       "</style>\n",
       "<table border=\"1\" class=\"dataframe\">\n",
       "  <thead>\n",
       "    <tr style=\"text-align: right;\">\n",
       "      <th></th>\n",
       "      <th>prompt_order</th>\n",
       "      <th>response</th>\n",
       "      <th>logprobs</th>\n",
       "    </tr>\n",
       "  </thead>\n",
       "  <tbody>\n",
       "    <tr>\n",
       "      <th>0</th>\n",
       "      <td>[rock, paper, scissors]</td>\n",
       "      <td>scissors</td>\n",
       "      <td>[{'token': 'rock', 'logprob': -1.2877055406570...</td>\n",
       "    </tr>\n",
       "    <tr>\n",
       "      <th>1</th>\n",
       "      <td>[rock, paper, scissors]</td>\n",
       "      <td>scissors</td>\n",
       "      <td>[{'token': 'Rock', 'logprob': -0.9437826275825...</td>\n",
       "    </tr>\n",
       "    <tr>\n",
       "      <th>2</th>\n",
       "      <td>[rock, paper, scissors]</td>\n",
       "      <td>rock</td>\n",
       "      <td>[{'token': 'rock', 'logprob': -1.2263624668121...</td>\n",
       "    </tr>\n",
       "    <tr>\n",
       "      <th>3</th>\n",
       "      <td>[rock, paper, scissors]</td>\n",
       "      <td>paper.</td>\n",
       "      <td>[{'token': 'Sc', 'logprob': -0.887918770313262...</td>\n",
       "    </tr>\n",
       "    <tr>\n",
       "      <th>4</th>\n",
       "      <td>[rock, paper, scissors]</td>\n",
       "      <td>scissors</td>\n",
       "      <td>[{'token': 'Rock', 'logprob': -0.8340977430343...</td>\n",
       "    </tr>\n",
       "  </tbody>\n",
       "</table>\n",
       "</div>"
      ],
      "text/plain": [
       "              prompt_order  response  \\\n",
       "0  [rock, paper, scissors]  scissors   \n",
       "1  [rock, paper, scissors]  scissors   \n",
       "2  [rock, paper, scissors]      rock   \n",
       "3  [rock, paper, scissors]    paper.   \n",
       "4  [rock, paper, scissors]  scissors   \n",
       "\n",
       "                                            logprobs  \n",
       "0  [{'token': 'rock', 'logprob': -1.2877055406570...  \n",
       "1  [{'token': 'Rock', 'logprob': -0.9437826275825...  \n",
       "2  [{'token': 'rock', 'logprob': -1.2263624668121...  \n",
       "3  [{'token': 'Sc', 'logprob': -0.887918770313262...  \n",
       "4  [{'token': 'Rock', 'logprob': -0.8340977430343...  "
      ]
     },
     "execution_count": 2,
     "metadata": {},
     "output_type": "execute_result"
    }
   ],
   "source": [
    "import pandas as pd\n",
    "import json\n",
    "import math\n",
    "import matplotlib.pyplot as plt\n",
    "import seaborn as sns\n",
    "\n",
    "# Load the RPS results\n",
    "RESULTS_FILE = 'rps_results_order.json'\n",
    "with open(RESULTS_FILE, 'r') as f:\n",
    "    results = json.load(f)\n",
    "\n",
    "df = pd.DataFrame(results)\n",
    "df.head()"
   ]
  },
  {
   "cell_type": "markdown",
   "id": "2b33693e",
   "metadata": {},
   "source": [
    "## Token Mapping\n",
    "\n",
    "Map the first token in the model's response to the canonical choices: rock, paper, or scissors."
   ]
  },
  {
   "cell_type": "code",
   "execution_count": 3,
   "id": "02529810",
   "metadata": {},
   "outputs": [],
   "source": [
    "token_to_choice = {\n",
    "    'rock': 'rock',\n",
    "    'Rock': 'rock',\n",
    "    'RO': 'rock',\n",
    "    ' paper': 'paper',\n",
    "    'paper': 'paper',\n",
    "    'Paper': 'paper',\n",
    "    'P': 'paper',\n",
    "    'scissors': 'scissors',\n",
    "    'Scissors': 'scissors',\n",
    "    'sc': 'scissors',\n",
    "    'Sc': 'scissors',\n",
    "    'SC': 'scissors',\n",
    "    ' scissors': 'scissors',\n",
    "    ' rock': 'rock',\n",
    "\n",
    "}"
   ]
  },
  {
   "cell_type": "markdown",
   "id": "ee81ac5c",
   "metadata": {},
   "source": [
    "## Calculate Choice Probabilities\n",
    "\n",
    "For each response, calculate the probability assigned to each choice using the logprobs."
   ]
  },
  {
   "cell_type": "code",
   "execution_count": 4,
   "id": "f53e4592",
   "metadata": {},
   "outputs": [],
   "source": [
    "def calculate_choice_probabilities(logprobs_list):\n",
    "    prob_rock = 0.0\n",
    "    prob_paper = 0.0\n",
    "    prob_scissors = 0.0\n",
    "    for entry in logprobs_list:\n",
    "        token = entry['token']\n",
    "        logprob = entry['logprob']\n",
    "        prob = math.exp(logprob)\n",
    "        choice = token_to_choice.get(token)\n",
    "        if choice == 'rock':\n",
    "            prob_rock += prob\n",
    "        elif choice == 'paper':\n",
    "            prob_paper += prob\n",
    "        elif choice == 'scissors':\n",
    "            prob_scissors += prob\n",
    "    return prob_rock, prob_paper, prob_scissors"
   ]
  },
  {
   "cell_type": "markdown",
   "id": "6b75a25e",
   "metadata": {},
   "source": [
    "## Apply Probability Calculation\n",
    "\n",
    "Apply the probability calculation to each row and add the results as new columns."
   ]
  },
  {
   "cell_type": "code",
   "execution_count": 5,
   "id": "17d884de",
   "metadata": {},
   "outputs": [
    {
     "data": {
      "text/html": [
       "<div>\n",
       "<style scoped>\n",
       "    .dataframe tbody tr th:only-of-type {\n",
       "        vertical-align: middle;\n",
       "    }\n",
       "\n",
       "    .dataframe tbody tr th {\n",
       "        vertical-align: top;\n",
       "    }\n",
       "\n",
       "    .dataframe thead th {\n",
       "        text-align: right;\n",
       "    }\n",
       "</style>\n",
       "<table border=\"1\" class=\"dataframe\">\n",
       "  <thead>\n",
       "    <tr style=\"text-align: right;\">\n",
       "      <th></th>\n",
       "      <th>prompt_order</th>\n",
       "      <th>response</th>\n",
       "      <th>logprobs</th>\n",
       "      <th>prob_rock</th>\n",
       "      <th>prob_paper</th>\n",
       "      <th>prob_scissors</th>\n",
       "    </tr>\n",
       "  </thead>\n",
       "  <tbody>\n",
       "    <tr>\n",
       "      <th>0</th>\n",
       "      <td>[rock, paper, scissors]</td>\n",
       "      <td>scissors</td>\n",
       "      <td>[{'token': 'rock', 'logprob': -1.2877055406570...</td>\n",
       "      <td>0.490777</td>\n",
       "      <td>0.061562</td>\n",
       "      <td>0.429747</td>\n",
       "    </tr>\n",
       "    <tr>\n",
       "      <th>1</th>\n",
       "      <td>[rock, paper, scissors]</td>\n",
       "      <td>scissors</td>\n",
       "      <td>[{'token': 'Rock', 'logprob': -0.9437826275825...</td>\n",
       "      <td>0.625186</td>\n",
       "      <td>0.067625</td>\n",
       "      <td>0.295317</td>\n",
       "    </tr>\n",
       "    <tr>\n",
       "      <th>2</th>\n",
       "      <td>[rock, paper, scissors]</td>\n",
       "      <td>rock</td>\n",
       "      <td>[{'token': 'rock', 'logprob': -1.2263624668121...</td>\n",
       "      <td>0.586715</td>\n",
       "      <td>0.065457</td>\n",
       "      <td>0.336388</td>\n",
       "    </tr>\n",
       "    <tr>\n",
       "      <th>3</th>\n",
       "      <td>[rock, paper, scissors]</td>\n",
       "      <td>paper.</td>\n",
       "      <td>[{'token': 'Sc', 'logprob': -0.887918770313262...</td>\n",
       "      <td>0.286205</td>\n",
       "      <td>0.194384</td>\n",
       "      <td>0.503332</td>\n",
       "    </tr>\n",
       "    <tr>\n",
       "      <th>4</th>\n",
       "      <td>[rock, paper, scissors]</td>\n",
       "      <td>scissors</td>\n",
       "      <td>[{'token': 'Rock', 'logprob': -0.8340977430343...</td>\n",
       "      <td>0.558685</td>\n",
       "      <td>0.096898</td>\n",
       "      <td>0.338860</td>\n",
       "    </tr>\n",
       "  </tbody>\n",
       "</table>\n",
       "</div>"
      ],
      "text/plain": [
       "              prompt_order  response  \\\n",
       "0  [rock, paper, scissors]  scissors   \n",
       "1  [rock, paper, scissors]  scissors   \n",
       "2  [rock, paper, scissors]      rock   \n",
       "3  [rock, paper, scissors]    paper.   \n",
       "4  [rock, paper, scissors]  scissors   \n",
       "\n",
       "                                            logprobs  prob_rock  prob_paper  \\\n",
       "0  [{'token': 'rock', 'logprob': -1.2877055406570...   0.490777    0.061562   \n",
       "1  [{'token': 'Rock', 'logprob': -0.9437826275825...   0.625186    0.067625   \n",
       "2  [{'token': 'rock', 'logprob': -1.2263624668121...   0.586715    0.065457   \n",
       "3  [{'token': 'Sc', 'logprob': -0.887918770313262...   0.286205    0.194384   \n",
       "4  [{'token': 'Rock', 'logprob': -0.8340977430343...   0.558685    0.096898   \n",
       "\n",
       "   prob_scissors  \n",
       "0       0.429747  \n",
       "1       0.295317  \n",
       "2       0.336388  \n",
       "3       0.503332  \n",
       "4       0.338860  "
      ]
     },
     "execution_count": 5,
     "metadata": {},
     "output_type": "execute_result"
    }
   ],
   "source": [
    "probs = df['logprobs'].apply(lambda x: pd.Series(calculate_choice_probabilities(x), \n",
    "                                                index=['prob_rock', 'prob_paper', 'prob_scissors']))\n",
    "df = pd.concat([df, probs], axis=1)\n",
    "df.head()"
   ]
  },
  {
   "cell_type": "markdown",
   "id": "5f510d2a",
   "metadata": {},
   "source": [
    "## Analyze by Prompt Order\n",
    "\n",
    "Aggregate the probabilities by the order in which choices were presented in the prompt."
   ]
  },
  {
   "cell_type": "code",
   "execution_count": 6,
   "id": "9b69ea8e",
   "metadata": {},
   "outputs": [
    {
     "data": {
      "text/html": [
       "<div>\n",
       "<style scoped>\n",
       "    .dataframe tbody tr th:only-of-type {\n",
       "        vertical-align: middle;\n",
       "    }\n",
       "\n",
       "    .dataframe tbody tr th {\n",
       "        vertical-align: top;\n",
       "    }\n",
       "\n",
       "    .dataframe thead th {\n",
       "        text-align: right;\n",
       "    }\n",
       "</style>\n",
       "<table border=\"1\" class=\"dataframe\">\n",
       "  <thead>\n",
       "    <tr style=\"text-align: right;\">\n",
       "      <th></th>\n",
       "      <th>prompt_order_str</th>\n",
       "      <th>prob_rock</th>\n",
       "      <th>prob_paper</th>\n",
       "      <th>prob_scissors</th>\n",
       "    </tr>\n",
       "  </thead>\n",
       "  <tbody>\n",
       "    <tr>\n",
       "      <th>0</th>\n",
       "      <td>paper,rock,scissors</td>\n",
       "      <td>0.525358</td>\n",
       "      <td>0.046064</td>\n",
       "      <td>0.424619</td>\n",
       "    </tr>\n",
       "    <tr>\n",
       "      <th>1</th>\n",
       "      <td>paper,scissors,rock</td>\n",
       "      <td>0.751692</td>\n",
       "      <td>0.061961</td>\n",
       "      <td>0.178351</td>\n",
       "    </tr>\n",
       "    <tr>\n",
       "      <th>2</th>\n",
       "      <td>rock,paper,scissors</td>\n",
       "      <td>0.393493</td>\n",
       "      <td>0.117754</td>\n",
       "      <td>0.480987</td>\n",
       "    </tr>\n",
       "    <tr>\n",
       "      <th>3</th>\n",
       "      <td>rock,scissors,paper</td>\n",
       "      <td>0.370781</td>\n",
       "      <td>0.406898</td>\n",
       "      <td>0.202285</td>\n",
       "    </tr>\n",
       "    <tr>\n",
       "      <th>4</th>\n",
       "      <td>scissors,paper,rock</td>\n",
       "      <td>0.588744</td>\n",
       "      <td>0.117126</td>\n",
       "      <td>0.279722</td>\n",
       "    </tr>\n",
       "    <tr>\n",
       "      <th>5</th>\n",
       "      <td>scissors,rock,paper</td>\n",
       "      <td>0.665000</td>\n",
       "      <td>0.124016</td>\n",
       "      <td>0.201737</td>\n",
       "    </tr>\n",
       "  </tbody>\n",
       "</table>\n",
       "</div>"
      ],
      "text/plain": [
       "      prompt_order_str  prob_rock  prob_paper  prob_scissors\n",
       "0  paper,rock,scissors   0.525358    0.046064       0.424619\n",
       "1  paper,scissors,rock   0.751692    0.061961       0.178351\n",
       "2  rock,paper,scissors   0.393493    0.117754       0.480987\n",
       "3  rock,scissors,paper   0.370781    0.406898       0.202285\n",
       "4  scissors,paper,rock   0.588744    0.117126       0.279722\n",
       "5  scissors,rock,paper   0.665000    0.124016       0.201737"
      ]
     },
     "execution_count": 6,
     "metadata": {},
     "output_type": "execute_result"
    }
   ],
   "source": [
    "# Convert prompt_order to a string for grouping\n",
    "df['prompt_order_str'] = df['prompt_order'].apply(lambda x: ','.join(x))\n",
    "\n",
    "grouped = df.groupby('prompt_order_str')[['prob_rock', 'prob_paper', 'prob_scissors']].mean().reset_index()\n",
    "grouped"
   ]
  },
  {
   "cell_type": "markdown",
   "id": "7342ef92",
   "metadata": {},
   "source": [
    "## Visualization\n",
    "\n",
    "Visualize the mean probability for each choice as a function of prompt order."
   ]
  },
  {
   "cell_type": "code",
   "execution_count": 7,
   "id": "bd2bebcf",
   "metadata": {},
   "outputs": [
    {
     "data": {
      "image/png": "[encoded data removed]",
      "text/plain": [
       "<Figure size 1200x600 with 1 Axes>"
      ]
     },
     "metadata": {},
     "output_type": "display_data"
    }
   ],
   "source": [
    "grouped_melted = grouped.melt(id_vars='prompt_order_str', \n",
    "                              value_vars=['prob_rock', 'prob_paper', 'prob_scissors'], \n",
    "                              var_name='choice', value_name='mean_probability')\n",
    "\n",
    "plt.figure(figsize=(12, 6))\n",
    "sns.barplot(data=grouped_melted, x='prompt_order_str', y='mean_probability', hue='choice')\n",
    "plt.xticks(rotation=45, ha='right')\n",
    "plt.title('Mean Choice Probability by Prompt Order')\n",
    "plt.ylabel('Mean Probability')\n",
    "plt.xlabel('Prompt Order (rock,paper,scissors)')\n",
    "plt.legend(title='Choice')\n",
    "plt.tight_layout()\n",
    "plt.show()"
   ]
  },
  {
   "cell_type": "markdown",
   "id": "942ce518",
   "metadata": {},
   "source": [
    "## Conclusion\n",
    "\n",
    "By examining the mean probabilities for each choice across different prompt orders, we can assess whether the order of presentation influences the model's selection. If a particular choice is consistently favored when it appears first, second, or third, this may indicate a prompt order bias."
   ]
  }
 ],
 "metadata": {
  "kernelspec": {
   "display_name": "venv",
   "language": "python",
   "name": "python3"
  },
  "language_info": {
   "codemirror_mode": {
    "name": "ipython",
    "version": 3
   },
   "file_extension": ".py",
   "mimetype": "text/x-python",
   "name": "python",
   "nbconvert_exporter": "python",
   "pygments_lexer": "ipython3",
   "version": "3.12.3"
  }
 },
 "nbformat": 4,
 "nbformat_minor": 5
}
